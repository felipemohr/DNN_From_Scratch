{
 "cells": [
  {
   "cell_type": "code",
   "execution_count": 3,
   "metadata": {},
   "outputs": [
    {
     "name": "stdout",
     "output_type": "stream",
     "text": [
      "Layer 1:\n",
      "activation:  relu\n",
      "n_units:  8\n",
      "W: (8, 12288)\n",
      "b: (8, 1)\n",
      "--\n",
      "Layer 2:\n",
      "activation:  relu\n",
      "n_units:  4\n",
      "W: (4, 8)\n",
      "b: (4, 1)\n",
      "--\n",
      "Layer 3:\n",
      "activation:  sigmoid\n",
      "n_units:  1\n",
      "W: (1, 4)\n",
      "b: (1, 1)\n",
      "--\n",
      "Cost after iteration 0: 0.6923526375477322\n",
      "Cost after iteration 100: 0.4915619553569309\n",
      "Cost after iteration 200: 0.39487337466557104\n",
      "Cost after iteration 300: 0.32838811325292555\n",
      "Cost after iteration 400: 0.27115585764974304\n",
      "Cost after iteration 500: 0.2311369847136005\n",
      "Cost after iteration 600: 0.20104399528475522\n",
      "Cost after iteration 700: 0.1763810641115921\n"
     ]
    }
   ],
   "source": [
    "from DNNFS import *\n",
    "from datasets import *\n",
    "import matplotlib.pyplot as plt\n",
    "\n",
    "train_x, train_y = load_cats_trainset()\n",
    "# train_x, train_y = load_planar_dataset()\n",
    "\n",
    "my_nn = DNNFS()\n",
    "\n",
    "my_nn.addLayer(Dense(8, activation='relu'), input_size=12288)\n",
    "my_nn.addLayer(Dense(4, activation='relu'))\n",
    "# my_nn.addLayer(Dropout(4, keep_prob=0.5, activation='relu'))\n",
    "my_nn.addLayer(Dense(1, 'sigmoid'))\n",
    "my_nn.printNetwork()\n",
    "\n",
    "costs = my_nn.train(train_x, train_y, learning_rate=0.0075, num_iterations=1000, normalize_inputs=True, lamb=0.1, print_cost_interval=100, print_cost=True)\n",
    "plt.plot(costs)\n"
   ]
  },
  {
   "cell_type": "code",
   "execution_count": null,
   "metadata": {},
   "outputs": [],
   "source": [
    "from DNNFS import *\n",
    "\n",
    "my_nn = DNNFS()\n",
    "\n",
    "my_nn.addLayer(Dense(1, 'sigmoid'), input_size=1)\n",
    "\n",
    "X = np.array([np.linspace(0.0, 1.0, 1000)])\n",
    "Y = np.zeros((X.shape))\n",
    "Y[X>=0.5] = 1.0\n",
    "\n",
    "costs = my_nn.train(X, Y, learning_rate=0.125, num_iterations=20000, lamb=0.1, print_cost=True)\n"
   ]
  },
  {
   "cell_type": "code",
   "execution_count": null,
   "metadata": {},
   "outputs": [],
   "source": []
  }
 ],
 "metadata": {
  "interpreter": {
   "hash": "31f2aee4e71d21fbe5cf8b01ff0e069b9275f58929596ceb00d14d90e3e16cd6"
  },
  "kernelspec": {
   "display_name": "Python 3.8.10 64-bit",
   "language": "python",
   "name": "python3"
  },
  "language_info": {
   "codemirror_mode": {
    "name": "ipython",
    "version": 3
   },
   "file_extension": ".py",
   "mimetype": "text/x-python",
   "name": "python",
   "nbconvert_exporter": "python",
   "pygments_lexer": "ipython3",
   "version": "3.8.10"
  },
  "orig_nbformat": 4
 },
 "nbformat": 4,
 "nbformat_minor": 2
}
