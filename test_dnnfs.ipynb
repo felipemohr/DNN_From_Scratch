{
 "cells": [
  {
   "cell_type": "code",
   "execution_count": null,
   "metadata": {},
   "outputs": [],
   "source": [
    "from DNNFS import *\n",
    "from datasets import *\n",
    "import matplotlib.pyplot as plt\n",
    "\n",
    "train_x, train_y = load_cats_trainset()\n",
    "# train_x, train_y = load_planar_dataset()\n",
    "\n",
    "my_nn = DNNFS()\n",
    "\n",
    "my_nn.addLayer(Dense(8, activation='relu'), input_size=12288)\n",
    "my_nn.addLayer(Dense(4, activation='relu'))\n",
    "# my_nn.addLayer(Dropout(4, keep_prob=0.5, activation='relu'))\n",
    "my_nn.addLayer(Dense(1, 'sigmoid'))\n",
    "my_nn.printNetwork()\n",
    "\n",
    "np.random.seed(1)\n",
    "costs = my_nn.train(train_x, train_y, learning_rate=0.0075, num_epochs=2000, mini_batch_size=256,\n",
    "                    optimizer=\"momentum\", normalize_inputs=True, lamb=0.1, \n",
    "                    print_cost_interval=100, print_cost=True)\n",
    "plt.plot(costs)\n"
   ]
  },
  {
   "cell_type": "code",
   "execution_count": null,
   "metadata": {},
   "outputs": [],
   "source": []
  }
 ],
 "metadata": {
  "interpreter": {
   "hash": "31f2aee4e71d21fbe5cf8b01ff0e069b9275f58929596ceb00d14d90e3e16cd6"
  },
  "kernelspec": {
   "display_name": "Python 3.8.10 64-bit",
   "language": "python",
   "name": "python3"
  },
  "language_info": {
   "codemirror_mode": {
    "name": "ipython",
    "version": 3
   },
   "file_extension": ".py",
   "mimetype": "text/x-python",
   "name": "python",
   "nbconvert_exporter": "python",
   "pygments_lexer": "ipython3",
   "version": "3.8.10"
  },
  "orig_nbformat": 4
 },
 "nbformat": 4,
 "nbformat_minor": 2
}
